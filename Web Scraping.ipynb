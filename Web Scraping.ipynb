{
 "cells": [
  {
   "cell_type": "markdown",
   "metadata": {},
   "source": [
    "# Web Scraping"
   ]
  },
  {
   "cell_type": "markdown",
   "metadata": {},
   "source": [
    "## ¿Por qué web scraping?"
   ]
  },
  {
   "cell_type": "markdown",
   "metadata": {},
   "source": [
    "Para poder recolectar información de páginas web de manera fácil y rápida. Algunas de sus aplicaciones pueden son:\n",
    "\n",
    "* Comparación de Precios.\n",
    "* Obtener correos email.\n",
    "* Scraping de redes sociales.\n",
    "* Investigación y desarrollo."
   ]
  },
  {
   "cell_type": "markdown",
   "metadata": {},
   "source": [
    "## ¿Qué es?"
   ]
  },
  {
   "cell_type": "markdown",
   "metadata": {},
   "source": [
    "Método automatizado de extraer grandes cantidades de información desde páginas web. La información no es estructurada así que al hacer web scraping uno recolecta esta información y la puede almacenar de manera estructurada."
   ]
  },
  {
   "cell_type": "markdown",
   "metadata": {},
   "source": [
    "## ¿Cómo funciona?"
   ]
  },
  {
   "cell_type": "markdown",
   "metadata": {},
   "source": [
    "Se envía un request a una URL. Este responde con la información y permite leer la página HTML o XML. Uno parsea esta información y extrae lo que se necesita.\n",
    "\n",
    "Los pasos son:\n",
    "\n",
    "1. Encontrar la URL\n",
    "2. Inspeccionar la página\n",
    "3. Encontrar la información que se quiere extraer\n",
    "4. Escribir el código\n",
    "5. Correr el código y extraer la data\n",
    "6. Alamacenar la data en el formato requerido\n",
    "\n"
   ]
  },
  {
   "cell_type": "markdown",
   "metadata": {},
   "source": [
    "## Opciones para realizar scraping"
   ]
  },
  {
   "cell_type": "markdown",
   "metadata": {},
   "source": [
    "1. **BeautifulSoup**: Esta librería provee métodos simples para navegar y buscar lo que se necesita. \n",
    "\n",
    "\n",
    "2. **Scrapy**: Herramienta para extraer la información de una página. Es un crawler y framework de scraping de Python. Básicamente es para crear web spiders que hacen web crawl en las páginas y extraen la información. Spiders son las clases que un usuario define y Scrapy las usa para obtener la información de las páginas.\n",
    "\n",
    "\n",
    "3. **Selenium**: Herramiento de automatización web que permite escribir pruebas funcionales o de aceptación usando web drivers."
   ]
  },
  {
   "cell_type": "markdown",
   "metadata": {},
   "source": [
    "# Ejemplo"
   ]
  },
  {
   "cell_type": "markdown",
   "metadata": {},
   "source": [
    "Obtener la data de los productos desde mercado libre."
   ]
  },
  {
   "cell_type": "code",
   "execution_count": null,
   "metadata": {},
   "outputs": [],
   "source": []
  }
 ],
 "metadata": {
  "kernelspec": {
   "display_name": "Python 3",
   "language": "python",
   "name": "python3"
  },
  "language_info": {
   "codemirror_mode": {
    "name": "ipython",
    "version": 3
   },
   "file_extension": ".py",
   "mimetype": "text/x-python",
   "name": "python",
   "nbconvert_exporter": "python",
   "pygments_lexer": "ipython3",
   "version": "3.7.3"
  }
 },
 "nbformat": 4,
 "nbformat_minor": 2
}
